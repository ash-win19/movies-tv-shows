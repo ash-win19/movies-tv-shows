{
  "nbformat": 4,
  "nbformat_minor": 0,
  "metadata": {
    "colab": {
      "provenance": [],
      "authorship_tag": "ABX9TyPTZf9xbAtgXDiwEShCV8l8",
      "include_colab_link": true
    },
    "kernelspec": {
      "name": "python3",
      "display_name": "Python 3"
    },
    "language_info": {
      "name": "python"
    }
  },
  "cells": [
    {
      "cell_type": "markdown",
      "metadata": {
        "id": "view-in-github",
        "colab_type": "text"
      },
      "source": [
        "<a href=\"https://colab.research.google.com/github/ash-win19/movies-tv-shows/blob/main/TV_Shows.ipynb\" target=\"_parent\"><img src=\"https://colab.research.google.com/assets/colab-badge.svg\" alt=\"Open In Colab\"/></a>"
      ]
    },
    {
      "cell_type": "code",
      "execution_count": null,
      "metadata": {
        "id": "ZAa5EeUeTP-a"
      },
      "outputs": [],
      "source": [
        "# Generate Unique IDs\n",
        "\n",
        "import pandas as pd\n",
        "\n",
        "csv_file_path = \"TV Shows Masterdata.csv\"\n",
        "df = pd.read_csv(csv_file_path)\n",
        "\n",
        "df = df.sort_values(by=['Title'], ascending=True)\n",
        "\n",
        "df['Unique_Group_ID'] = df.groupby('Title').ngroup() + 1\n",
        "\n",
        "output_file_path = \"updated_file.csv\"\n",
        "df.to_csv(output_file_path, index=False)"
      ]
    },
    {
      "cell_type": "code",
      "source": [
        "# Normalization\n",
        "\n",
        "import sklearn\n",
        "import pandas as pd\n",
        "from sklearn.preprocessing import MinMaxScaler\n",
        "\n",
        "df = pd.read_csv('/content/TV Shows Masterdata with UIDs.csv')\n",
        "\n",
        "# Select the numerical features to normalize\n",
        "features_to_normalize = ['Episode Duration (in Minutes)', 'Votes', 'Rating']\n",
        "\n",
        "# Initialize the MinMaxScaler\n",
        "scaler = MinMaxScaler()\n",
        "\n",
        "# Apply the scaler to the selected features\n",
        "df[features_to_normalize] = scaler.fit_transform(df[features_to_normalize])\n",
        "\n",
        "# View the normalized features\n",
        "print(df[features_to_normalize])"
      ],
      "metadata": {
        "id": "phSicWUBEEFg"
      },
      "execution_count": null,
      "outputs": []
    },
    {
      "cell_type": "code",
      "source": [
        "# Generate CSV for training the model\n",
        "\n",
        "import pandas as pd\n",
        "\n",
        "# Read the dataset\n",
        "df = pd.read_csv('/content/TV Shows Masterdata with UIDs.csv')\n",
        "\n",
        "# One-Hot Encode genres\n",
        "genre_list = set(genre.strip() for sublist in df['Genres'].str.split(',') for genre in sublist)\n",
        "for genre in genre_list:\n",
        "    df[genre] = df['Genres'].apply(lambda x: 1 if genre in x else 0)\n",
        "\n",
        "# Select necessary columns: Include 'Win' column (changed from 'Award_Winner' to 'Win')\n",
        "columns_to_keep = ['Title', 'Win'] + list(genre_list)  # Keep 'Title', 'Win', and one-hot encoded genre columns\n",
        "df_selected = df[columns_to_keep]\n",
        "\n",
        "# Genre Diversity Score - Frequency of each genre combination\n",
        "genre_combinations = df['Genres'].value_counts()\n",
        "\n",
        "# Map the diversity score (inverse of frequency)\n",
        "df['Genre Diversity Score'] = df['Genres'].apply(lambda x: 1 / genre_combinations[x])\n",
        "\n",
        "# Now, add the 'Genre Diversity Score' to the df_selected DataFrame\n",
        "df_selected['Genre Diversity Score'] = df['Genre Diversity Score']\n",
        "\n",
        "# Conversion\n",
        "df['Win'] = df['Win'].astype(str).str.strip()\n",
        "\n",
        "# Replace 'TRUE'/'FALSE' with 1/0 (case-insensitive)\n",
        "df['Win'] = df['Win'].replace({\"True\": 1, \"False\": 0}, regex=True)\n",
        "\n",
        "# If you want to create a dictionary (df_2) and add the 'Win' column to it\n",
        "df_2 = {'Win': df['Win']}\n",
        "\n",
        "# Convert df_2 to a DataFrame for easy viewing and display\n",
        "df_2 = pd.DataFrame(df_2)\n",
        "\n",
        "# Display the first few rows\n",
        "df_selected['Win'] = df_2\n",
        "\n",
        "# Save the selected columns along with the 'Genre Diversity Score' to a new CSV\n",
        "df_selected.to_csv('Genre Encoded Data with Award Winner.csv', index=False)"
      ],
      "metadata": {
        "colab": {
          "base_uri": "https://localhost:8080/"
        },
        "id": "M5qzOMIgQCnS",
        "outputId": "c6baebd4-4c40-4b7e-92c9-f4259bd67246"
      },
      "execution_count": null,
      "outputs": [
        {
          "output_type": "stream",
          "name": "stderr",
          "text": [
            "<ipython-input-5-f022aa88201c>:24: SettingWithCopyWarning: \n",
            "A value is trying to be set on a copy of a slice from a DataFrame.\n",
            "Try using .loc[row_indexer,col_indexer] = value instead\n",
            "\n",
            "See the caveats in the documentation: https://pandas.pydata.org/pandas-docs/stable/user_guide/indexing.html#returning-a-view-versus-a-copy\n",
            "  df_selected['Genre Diversity Score'] = df['Genre Diversity Score']\n",
            "<ipython-input-5-f022aa88201c>:30: FutureWarning: Downcasting behavior in `replace` is deprecated and will be removed in a future version. To retain the old behavior, explicitly call `result.infer_objects(copy=False)`. To opt-in to the future behavior, set `pd.set_option('future.no_silent_downcasting', True)`\n",
            "  df['Win'] = df['Win'].replace({\"True\": 1, \"False\": 0}, regex=True)\n",
            "<ipython-input-5-f022aa88201c>:39: SettingWithCopyWarning: \n",
            "A value is trying to be set on a copy of a slice from a DataFrame.\n",
            "Try using .loc[row_indexer,col_indexer] = value instead\n",
            "\n",
            "See the caveats in the documentation: https://pandas.pydata.org/pandas-docs/stable/user_guide/indexing.html#returning-a-view-versus-a-copy\n",
            "  df_selected['Win'] = df_2\n"
          ]
        }
      ]
    },
    {
      "cell_type": "code",
      "source": [
        "from sklearn.model_selection import train_test_split\n",
        "\n",
        "# Use this line if the masterdata is inaccessible\n",
        "#df = pd.read_csv('/content/Genre Encoded Data with Award Winner.csv')\n",
        "\n",
        "X = df_selected.drop(columns=['Title', 'Win'])  # Features (excluding the target)\n",
        "y = df_selected['Win']  # Target (whether the movie won an award)\n",
        "\n",
        "# Split the data into training and testing sets (80% training, 20% testing)\n",
        "X_train, X_test, y_train, y_test = train_test_split(X, y, test_size=0.2, random_state=42)\n"
      ],
      "metadata": {
        "id": "n_wO1iCag4Sw"
      },
      "execution_count": null,
      "outputs": []
    },
    {
      "cell_type": "code",
      "source": [
        "from sklearn.ensemble import RandomForestClassifier\n",
        "from sklearn.metrics import accuracy_score\n",
        "\n",
        "# Initialize and train the Random Forest Classifier\n",
        "model = RandomForestClassifier(n_estimators=100, random_state=42)\n",
        "model.fit(X_train, y_train)\n",
        "\n",
        "# Predict on the test set\n",
        "y_pred = model.predict(X_test)\n",
        "\n",
        "# Evaluate the model\n",
        "accuracy = accuracy_score(y_test, y_pred)\n",
        "print(f\"Accuracy: {accuracy}\")\n"
      ],
      "metadata": {
        "id": "S0bnpSV0gwod",
        "colab": {
          "base_uri": "https://localhost:8080/"
        },
        "outputId": "e02a06da-61ca-493c-af17-6fe645478567"
      },
      "execution_count": null,
      "outputs": [
        {
          "output_type": "stream",
          "name": "stdout",
          "text": [
            "Accuracy: 0.8144475920679887\n"
          ]
        }
      ]
    },
    {
      "cell_type": "code",
      "source": [
        "# Model Evaluation\n",
        "from sklearn.metrics import classification_report\n",
        "\n",
        "# Print classification report for more detailed metrics\n",
        "print(classification_report(y_test, y_pred))\n"
      ],
      "metadata": {
        "colab": {
          "base_uri": "https://localhost:8080/"
        },
        "id": "7ZzKQLA0GnPg",
        "outputId": "8dd55e77-a09b-4e80-9856-25b81f1e6b5e"
      },
      "execution_count": null,
      "outputs": [
        {
          "output_type": "stream",
          "name": "stdout",
          "text": [
            "              precision    recall  f1-score   support\n",
            "\n",
            "           0       0.82      1.00      0.90       576\n",
            "           1       0.33      0.01      0.02       130\n",
            "\n",
            "    accuracy                           0.81       706\n",
            "   macro avg       0.57      0.50      0.46       706\n",
            "weighted avg       0.73      0.81      0.74       706\n",
            "\n"
          ]
        }
      ]
    },
    {
      "cell_type": "code",
      "source": [
        "# Model improvement\n",
        "import xgboost as xgb\n",
        "from sklearn.metrics import accuracy_score\n",
        "\n",
        "# Initialize XGBoost model\n",
        "xgb_model = xgb.XGBClassifier(random_state=42)\n",
        "\n",
        "# Train the model\n",
        "xgb_model.fit(X_train, y_train)\n",
        "\n",
        "# Make predictions\n",
        "y_pred = xgb_model.predict(X_test)\n",
        "\n",
        "# Evaluate the model\n",
        "accuracy = accuracy_score(y_test, y_pred)\n",
        "print(f\"Accuracy: {accuracy}\")\n"
      ],
      "metadata": {
        "colab": {
          "base_uri": "https://localhost:8080/"
        },
        "id": "RyeiTa3IGrAF",
        "outputId": "84305fc0-5b53-4838-93a7-32fb9c278023"
      },
      "execution_count": null,
      "outputs": [
        {
          "output_type": "stream",
          "name": "stdout",
          "text": [
            "Accuracy: 0.8158640226628895\n"
          ]
        }
      ]
    },
    {
      "cell_type": "code",
      "source": [
        "# Plots !Drop last column!\n",
        "import pandas as pd\n",
        "import matplotlib.pyplot as plt\n",
        "\n",
        "# Get feature importance\n",
        "feature_importance = best_xgb_model.get_booster().get_score(importance_type='weight')\n",
        "\n",
        "# Convert to DataFrame\n",
        "importance_df = pd.DataFrame(list(feature_importance.items()), columns=['Feature', 'Importance']).sort_values(by='Importance', ascending=False)\n",
        "\n",
        "# Save to CSV for visualization\n",
        "importance_df.to_csv('feature_importance_genres.csv', index=False)\n",
        "\n",
        "# Plot the feature importance\n",
        "plt.figure(figsize=(10, 6))\n",
        "plt.barh(importance_df['Feature'], importance_df['Importance'], color='skyblue')\n",
        "plt.xlabel('Importance Score')\n",
        "plt.ylabel('Features')\n",
        "plt.title('Feature Importance of Award-Winning Genres')\n",
        "plt.show()\n"
      ],
      "metadata": {
        "colab": {
          "base_uri": "https://localhost:8080/",
          "height": 369
        },
        "id": "MorQWukEKS-X",
        "outputId": "b37f221c-3ca2-44f8-a706-f1e8ecb45d64"
      },
      "execution_count": null,
      "outputs": [
        {
          "output_type": "display_data",
          "data": {
            "text/plain": [
              "<Figure size 1000x600 with 1 Axes>"
            ],
            "image/png": "[encoded data removed]"
          },
          "metadata": {}
        }
      ]
    },
    {
      "cell_type": "code",
      "source": [
        "import pandas as pd\n",
        "import numpy as np\n",
        "\n",
        "# Predict the probability of winning for each movie/show\n",
        "y_pred_prob = xgb_model.predict_proba(X_test)[:, 1]  # Probability of winning an award\n",
        "\n",
        "# Retrieve genre columns (assumed to be one-hot encoded)\n",
        "genre_columns = X_test.columns.tolist()\n",
        "\n",
        "# Create a DataFrame with movie/show data and predicted probability\n",
        "movies_df = pd.DataFrame({\n",
        "    'Title': X_test.index,  # Assuming index represents the movie/show title or ID\n",
        "    'Predicted_Probability_Win': y_pred_prob\n",
        "})\n",
        "\n",
        "# Extract genre information and map each movie/show to its respective genres\n",
        "movies_df['Genres'] = X_test.apply(\n",
        "    lambda row: ', '.join([genre for genre in genre_columns if row[genre] == 1]),\n",
        "    axis=1\n",
        ")\n",
        "\n",
        "# Replace empty genres with \"Unknown\" or any placeholder\n",
        "movies_df['Genres'] = movies_df['Genres'].replace('', 'Unknown')\n",
        "\n",
        "# Save the resulting DataFrame to CSV\n",
        "movies_df.to_csv(\"movie_genre_probabilities.csv\", index=False)\n",
        "print(\"CSV file created successfully: movie_genre_probabilities.csv\")\n"
      ],
      "metadata": {
        "colab": {
          "base_uri": "https://localhost:8080/"
        },
        "id": "WrgKeuVoKfy7",
        "outputId": "babdf7c5-3d5c-408e-98e2-ba2598194783"
      },
      "execution_count": null,
      "outputs": [
        {
          "output_type": "stream",
          "name": "stdout",
          "text": [
            "CSV file created successfully: movie_genre_probabilities.csv\n"
          ]
        }
      ]
    }
  ]
}